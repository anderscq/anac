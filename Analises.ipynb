{
 "cells": [
  {
   "cell_type": "code",
   "execution_count": 1,
   "id": "e4f265f3",
   "metadata": {},
   "outputs": [],
   "source": [
    "import pandas as pd\n",
    "import matplotlib.pyplot as plt\n",
    "from os import path"
   ]
  },
  {
   "cell_type": "code",
   "execution_count": 2,
   "id": "d9c0c7a7",
   "metadata": {},
   "outputs": [],
   "source": [
    "df = pd.read_csv(path.join('data_transformed', 'df_main.csv'), encoding='utf-8', low_memory=False)"
   ]
  },
  {
   "cell_type": "code",
   "execution_count": 3,
   "id": "4324dba6",
   "metadata": {},
   "outputs": [
    {
     "data": {
      "text/html": [
       "<div>\n",
       "<style scoped>\n",
       "    .dataframe tbody tr th:only-of-type {\n",
       "        vertical-align: middle;\n",
       "    }\n",
       "\n",
       "    .dataframe tbody tr th {\n",
       "        vertical-align: top;\n",
       "    }\n",
       "\n",
       "    .dataframe thead th {\n",
       "        text-align: right;\n",
       "    }\n",
       "</style>\n",
       "<table border=\"1\" class=\"dataframe\">\n",
       "  <thead>\n",
       "    <tr style=\"text-align: right;\">\n",
       "      <th></th>\n",
       "      <th>ANO</th>\n",
       "      <th>MES</th>\n",
       "      <th>EMPRESA</th>\n",
       "      <th>TARIFA</th>\n",
       "      <th>ASSENTOS</th>\n",
       "      <th>ORIGEM</th>\n",
       "      <th>DESTINO</th>\n",
       "    </tr>\n",
       "  </thead>\n",
       "  <tbody>\n",
       "    <tr>\n",
       "      <th>0</th>\n",
       "      <td>2021</td>\n",
       "      <td>1</td>\n",
       "      <td>AZU</td>\n",
       "      <td>293.2</td>\n",
       "      <td>1</td>\n",
       "      <td>ARACATI</td>\n",
       "      <td>BRASÍLIA</td>\n",
       "    </tr>\n",
       "    <tr>\n",
       "      <th>1</th>\n",
       "      <td>2021</td>\n",
       "      <td>1</td>\n",
       "      <td>AZU</td>\n",
       "      <td>340.9</td>\n",
       "      <td>6</td>\n",
       "      <td>ARACATI</td>\n",
       "      <td>BRASÍLIA</td>\n",
       "    </tr>\n",
       "    <tr>\n",
       "      <th>2</th>\n",
       "      <td>2021</td>\n",
       "      <td>1</td>\n",
       "      <td>AZU</td>\n",
       "      <td>367.3</td>\n",
       "      <td>1</td>\n",
       "      <td>ARACATI</td>\n",
       "      <td>BRASÍLIA</td>\n",
       "    </tr>\n",
       "    <tr>\n",
       "      <th>3</th>\n",
       "      <td>2021</td>\n",
       "      <td>1</td>\n",
       "      <td>AZU</td>\n",
       "      <td>435.9</td>\n",
       "      <td>1</td>\n",
       "      <td>ARACATI</td>\n",
       "      <td>BRASÍLIA</td>\n",
       "    </tr>\n",
       "    <tr>\n",
       "      <th>4</th>\n",
       "      <td>2021</td>\n",
       "      <td>1</td>\n",
       "      <td>AZU</td>\n",
       "      <td>452.9</td>\n",
       "      <td>1</td>\n",
       "      <td>ARACATI</td>\n",
       "      <td>BRASÍLIA</td>\n",
       "    </tr>\n",
       "    <tr>\n",
       "      <th>...</th>\n",
       "      <td>...</td>\n",
       "      <td>...</td>\n",
       "      <td>...</td>\n",
       "      <td>...</td>\n",
       "      <td>...</td>\n",
       "      <td>...</td>\n",
       "      <td>...</td>\n",
       "    </tr>\n",
       "    <tr>\n",
       "      <th>1883690</th>\n",
       "      <td>2021</td>\n",
       "      <td>3</td>\n",
       "      <td>AZU</td>\n",
       "      <td>55.0</td>\n",
       "      <td>1</td>\n",
       "      <td>SANTARÉM</td>\n",
       "      <td>MONTE ALEGRE</td>\n",
       "    </tr>\n",
       "    <tr>\n",
       "      <th>1883691</th>\n",
       "      <td>2021</td>\n",
       "      <td>3</td>\n",
       "      <td>AZU</td>\n",
       "      <td>98.0</td>\n",
       "      <td>2</td>\n",
       "      <td>SANTARÉM</td>\n",
       "      <td>MONTE ALEGRE</td>\n",
       "    </tr>\n",
       "    <tr>\n",
       "      <th>1883692</th>\n",
       "      <td>2021</td>\n",
       "      <td>4</td>\n",
       "      <td>AZU</td>\n",
       "      <td>153.0</td>\n",
       "      <td>2</td>\n",
       "      <td>SANTARÉM</td>\n",
       "      <td>MONTE ALEGRE</td>\n",
       "    </tr>\n",
       "    <tr>\n",
       "      <th>1883693</th>\n",
       "      <td>2021</td>\n",
       "      <td>1</td>\n",
       "      <td>AZU</td>\n",
       "      <td>55.0</td>\n",
       "      <td>30</td>\n",
       "      <td>SÃO PAULO</td>\n",
       "      <td>ITANHAÉM</td>\n",
       "    </tr>\n",
       "    <tr>\n",
       "      <th>1883694</th>\n",
       "      <td>2021</td>\n",
       "      <td>1</td>\n",
       "      <td>AZU</td>\n",
       "      <td>119.0</td>\n",
       "      <td>5</td>\n",
       "      <td>SÃO PAULO</td>\n",
       "      <td>ITANHAÉM</td>\n",
       "    </tr>\n",
       "  </tbody>\n",
       "</table>\n",
       "<p>1883695 rows × 7 columns</p>\n",
       "</div>"
      ],
      "text/plain": [
       "          ANO  MES EMPRESA  TARIFA  ASSENTOS     ORIGEM       DESTINO\n",
       "0        2021    1     AZU   293.2         1    ARACATI      BRASÍLIA\n",
       "1        2021    1     AZU   340.9         6    ARACATI      BRASÍLIA\n",
       "2        2021    1     AZU   367.3         1    ARACATI      BRASÍLIA\n",
       "3        2021    1     AZU   435.9         1    ARACATI      BRASÍLIA\n",
       "4        2021    1     AZU   452.9         1    ARACATI      BRASÍLIA\n",
       "...       ...  ...     ...     ...       ...        ...           ...\n",
       "1883690  2021    3     AZU    55.0         1   SANTARÉM  MONTE ALEGRE\n",
       "1883691  2021    3     AZU    98.0         2   SANTARÉM  MONTE ALEGRE\n",
       "1883692  2021    4     AZU   153.0         2   SANTARÉM  MONTE ALEGRE\n",
       "1883693  2021    1     AZU    55.0        30  SÃO PAULO      ITANHAÉM\n",
       "1883694  2021    1     AZU   119.0         5  SÃO PAULO      ITANHAÉM\n",
       "\n",
       "[1883695 rows x 7 columns]"
      ]
     },
     "execution_count": 3,
     "metadata": {},
     "output_type": "execute_result"
    }
   ],
   "source": [
    "df"
   ]
  },
  {
   "cell_type": "markdown",
   "id": "ee30e101",
   "metadata": {},
   "source": [
    "- Viracopos -> Cuiabá  (AZUL)"
   ]
  },
  {
   "cell_type": "code",
   "execution_count": null,
   "id": "2d26b639",
   "metadata": {},
   "outputs": [],
   "source": [
    "df_vcp_cgb = df[(df['ORIGEM'] == 'CAMPINAS') & (df['DESTINO'] == 'VÁRZEA GRANDE')]"
   ]
  },
  {
   "cell_type": "code",
   "execution_count": null,
   "id": "61f72964",
   "metadata": {},
   "outputs": [],
   "source": [
    "plt.boxplot(df_vcp_cgb['TARIFA'])\n",
    "plt.title('Viracopos -> Cuiabá (AZUL)')\n",
    "plt.ylabel('R$')\n",
    "plt.show()"
   ]
  },
  {
   "cell_type": "markdown",
   "id": "c3f539eb",
   "metadata": {},
   "source": [
    "- Guarulhos -> Cuiabá (Outras Cias)"
   ]
  },
  {
   "cell_type": "code",
   "execution_count": null,
   "id": "f7ca6bf5",
   "metadata": {},
   "outputs": [],
   "source": [
    "df_gru_cgb = df[(df['ORIGEM'] == 'GUARULHOS') & (df['DESTINO'] == 'VÁRZEA GRANDE')]"
   ]
  },
  {
   "cell_type": "code",
   "execution_count": null,
   "id": "397e2d3c",
   "metadata": {},
   "outputs": [],
   "source": [
    "plt.boxplot(df_gru_cgb['TARIFA'])\n",
    "plt.title('Guarulhos -> Cuiabá (Outras Cias)')\n",
    "plt.ylabel('R$')\n",
    "plt.show()"
   ]
  }
 ],
 "metadata": {
  "kernelspec": {
   "display_name": "Python 3 (ipykernel)",
   "language": "python",
   "name": "python3"
  },
  "language_info": {
   "codemirror_mode": {
    "name": "ipython",
    "version": 3
   },
   "file_extension": ".py",
   "mimetype": "text/x-python",
   "name": "python",
   "nbconvert_exporter": "python",
   "pygments_lexer": "ipython3",
   "version": "3.9.5"
  }
 },
 "nbformat": 4,
 "nbformat_minor": 5
}
