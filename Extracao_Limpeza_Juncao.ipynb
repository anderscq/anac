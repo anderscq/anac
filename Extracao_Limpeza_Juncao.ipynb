{
 "cells": [
  {
   "cell_type": "markdown",
   "id": "e609a186",
   "metadata": {},
   "source": [
    "### Extracao e Limpeza"
   ]
  },
  {
   "cell_type": "code",
   "execution_count": 1,
   "id": "10550701",
   "metadata": {},
   "outputs": [],
   "source": [
    "import pandas as pd\n",
    "from os import listdir, path"
   ]
  },
  {
   "cell_type": "code",
   "execution_count": 3,
   "id": "01c9b907",
   "metadata": {},
   "outputs": [],
   "source": [
    "directory = 'data_raw'\n",
    "cols = ['ANO', 'MES', 'EMPRESA', 'ORIGEM', 'DESTINO', 'TARIFA', 'ASSENTOS']"
   ]
  },
  {
   "cell_type": "code",
   "execution_count": 4,
   "id": "348b2960",
   "metadata": {},
   "outputs": [],
   "source": [
    "dfs = []\n",
    "for filename in listdir(directory):\n",
    "    f = path.join(directory, filename)\n",
    "    dfs.append(pd.read_csv(str(f), sep=';', encoding='latin-1', names=cols, skiprows=1, low_memory=False))\n",
    "\n",
    "df = pd.concat(dfs)"
   ]
  },
  {
   "cell_type": "code",
   "execution_count": 5,
   "id": "11bdbe68",
   "metadata": {},
   "outputs": [],
   "source": [
    "df['TARIFA'] = df['TARIFA'].str.replace(',', '.')\n",
    "df['TARIFA'] = df['TARIFA'].astype(float)"
   ]
  },
  {
   "cell_type": "code",
   "execution_count": 6,
   "id": "33f1a470",
   "metadata": {},
   "outputs": [],
   "source": [
    "df_aerodromos = pd.read_csv('AerodromosPublicos.csv', sep=';', encoding='latin-1', low_memory=False)"
   ]
  },
  {
   "cell_type": "code",
   "execution_count": 7,
   "id": "a7c0585c",
   "metadata": {},
   "outputs": [],
   "source": [
    "drop_cols = ['CIAD', 'Nome', 'Município Servido', 'UF', 'UF Servido', 'LATGEOPOINT', 'LONGEOPOINT', 'Latitude', 'Longitude', \n",
    "             'Altitude', 'Operação Diurna', 'Operação Noturna', 'Designação 1', 'Superfície 1', 'Superfície 1', 'Designação 2',\n",
    "            'Resistência 1', 'Resistência 2', 'Superfície 2', 'Situação', 'Validade do Registro', 'Portaria de Registro', 'Link Portaria',\n",
    "            'Largura 1', 'Largura 2', 'Comprimento 1', 'Comprimento 2']"
   ]
  },
  {
   "cell_type": "code",
   "execution_count": 8,
   "id": "44a8040e",
   "metadata": {},
   "outputs": [],
   "source": [
    "df_aerodromos.drop(drop_cols, axis=1, inplace=True)\n",
    "df_aerodromos.rename(columns={'Código OACI': 'oaci', 'Município': 'cidade'}, inplace=True)\n",
    "df_aerodromos.set_index('oaci', inplace=True)"
   ]
  },
  {
   "cell_type": "markdown",
   "id": "6385dab6",
   "metadata": {},
   "source": [
    "### Join do DF principal com o DF de aerodromos"
   ]
  },
  {
   "cell_type": "code",
   "execution_count": 9,
   "id": "31a832a8",
   "metadata": {},
   "outputs": [],
   "source": [
    "df = df.merge(df_aerodromos, left_on='ORIGEM', right_on='oaci')\n",
    "df = df.merge(df_aerodromos, left_on='DESTINO', right_on='oaci')"
   ]
  },
  {
   "cell_type": "code",
   "execution_count": 10,
   "id": "dc16fd0a",
   "metadata": {},
   "outputs": [],
   "source": [
    "df.drop(['ORIGEM', 'DESTINO'], axis=1, inplace=True)\n",
    "df.rename(columns={'cidade_x': 'ORIGEM', 'cidade_y': 'DESTINO'}, inplace=True)"
   ]
  },
  {
   "cell_type": "code",
   "execution_count": 11,
   "id": "aa4058c5",
   "metadata": {},
   "outputs": [],
   "source": [
    "df.to_csv(path.join('data_transformed', 'df_main.csv'), index=False)"
   ]
  }
 ],
 "metadata": {
  "kernelspec": {
   "display_name": "Python 3 (ipykernel)",
   "language": "python",
   "name": "python3"
  },
  "language_info": {
   "codemirror_mode": {
    "name": "ipython",
    "version": 3
   },
   "file_extension": ".py",
   "mimetype": "text/x-python",
   "name": "python",
   "nbconvert_exporter": "python",
   "pygments_lexer": "ipython3",
   "version": "3.10.12"
  }
 },
 "nbformat": 4,
 "nbformat_minor": 5
}
